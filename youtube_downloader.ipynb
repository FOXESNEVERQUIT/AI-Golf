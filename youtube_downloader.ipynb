{
 "cells": [
  {
   "cell_type": "code",
   "execution_count": null,
   "metadata": {},
   "outputs": [],
   "source": [
    "from googleapiclient.discovery import build\n",
    "\n",
    "api_key = 'YOUR_API_KEY'  # replace with your API key\n",
    "\n",
    "youtube = build('youtube', 'v3', developerKey=api_key)\n",
    "\n",
    "request = youtube.search().list(\n",
    "    q='amateur golfer swing',\n",
    "    part='snippet',\n",
    "    type='video',\n",
    "    maxResults=10\n",
    ")\n",
    "\n",
    "response = request.execute()\n",
    "\n",
    "for item in response['items']:\n",
    "    print(item['snippet']['title'], \"https://www.youtube.com/watch?v=\" + item['id']['videoId'])\n"
   ]
  }
 ],
 "metadata": {
  "kernelspec": {
   "display_name": "Python 3",
   "language": "python",
   "name": "python3"
  },
  "language_info": {
   "codemirror_mode": {
    "name": "ipython",
    "version": 3
   },
   "file_extension": ".py",
   "mimetype": "text/x-python",
   "name": "python",
   "nbconvert_exporter": "python",
   "pygments_lexer": "ipython3",
   "version": "3.9.6"
  },
  "orig_nbformat": 4
 },
 "nbformat": 4,
 "nbformat_minor": 2
}
